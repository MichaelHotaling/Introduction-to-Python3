{
 "cells": [
  {
   "cell_type": "markdown",
   "metadata": {},
   "source": [
    "# if, elif and else Statements\n",
    "<code>if</code> Statements in Python allow us to tell the computer to perform alternative actions based on a certain set of rules\n",
    "\n",
    "We can expand the idea further with <code>elif</code> and <code>else</code> statements. \n",
    "\n",
    "\n",
    "        if case1 is satisfied:\n",
    "              perform action 1\n",
    "              \n",
    "        elif case 2 is satisfied:\n",
    "              perform action 2\n",
    "        else:\n",
    "              perform action 3"
   ]
  },
  {
   "cell_type": "code",
   "execution_count": 1,
   "metadata": {},
   "outputs": [
    {
     "name": "stdout",
     "output_type": "stream",
     "text": [
      "This argument was satisfied\n"
     ]
    }
   ],
   "source": [
    "# Example\n",
    "if True:\n",
    "    print(\"This argument was satisfied\")"
   ]
  },
  {
   "cell_type": "code",
   "execution_count": 2,
   "metadata": {},
   "outputs": [
    {
     "name": "stdout",
     "output_type": "stream",
     "text": [
      "I will be printed if X was not True\n"
     ]
    }
   ],
   "source": [
    "x = False\n",
    "\n",
    "if x:\n",
    "    print('x was True')\n",
    "else: \n",
    "    print('I will be printed if X was not True')"
   ]
  },
  {
   "cell_type": "markdown",
   "metadata": {},
   "source": [
    "## Multiple Branches"
   ]
  },
  {
   "cell_type": "code",
   "execution_count": 3,
   "metadata": {},
   "outputs": [
    {
     "name": "stdout",
     "output_type": "stream",
     "text": [
      "Welcome to the Bank!\n"
     ]
    }
   ],
   "source": [
    "location = \"Bank\"\n",
    "\n",
    "if location == \"Mechanic\":\n",
    "    print('Welcome to the Mechanic!')\n",
    "elif location == 'Bank':\n",
    "    print('Welcome to the Bank!')\n",
    "else:\n",
    "    print('Where are you?')"
   ]
  },
  {
   "cell_type": "code",
   "execution_count": 4,
   "metadata": {},
   "outputs": [
    {
     "name": "stdout",
     "output_type": "stream",
     "text": [
      "Welcome Mike!\n"
     ]
    }
   ],
   "source": [
    "person = 'Mike'\n",
    "\n",
    "if person == 'Sammy':\n",
    "    print('Welcome Sammy!')\n",
    "elif person =='George':\n",
    "    print('Welcome George!')\n",
    "elif person =='Bob':\n",
    "    print('Welcome Bob!') \n",
    "elif person =='Jacob':\n",
    "    print('Welcome Jacob!') \n",
    "elif person =='Mike':\n",
    "    print('Welcome Mike!')    \n",
    "else:\n",
    "    print(\"Welcome, what's your name?\")"
   ]
  }
 ],
 "metadata": {
  "kernelspec": {
   "display_name": "Python 3",
   "language": "python",
   "name": "python3"
  },
  "language_info": {
   "codemirror_mode": {
    "name": "ipython",
    "version": 3
   },
   "file_extension": ".py",
   "mimetype": "text/x-python",
   "name": "python",
   "nbconvert_exporter": "python",
   "pygments_lexer": "ipython3",
   "version": "3.7.4"
  }
 },
 "nbformat": 4,
 "nbformat_minor": 2
}
