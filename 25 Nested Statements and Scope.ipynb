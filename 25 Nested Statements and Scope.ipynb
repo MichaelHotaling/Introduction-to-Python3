{
 "cells": [
  {
   "cell_type": "markdown",
   "metadata": {},
   "source": [
    "# Nested Statements and Scope\n",
    "\n",
    "When you create a variable, the name is stored in a name-space. Variable names also have a scope. The scope determines the visability of that varaible name to other parts of your code.\n",
    "\n",
    "Let's start with a quick though experiment. Consider the following code"
   ]
  },
  {
   "cell_type": "code",
   "execution_count": 5,
   "metadata": {},
   "outputs": [],
   "source": [
    "x = 25\n",
    "\n",
    "def printer():\n",
    "    x = 50\n",
    "    return x\n",
    "\n",
    "# x = print(x)\n",
    "# x = print(printer())"
   ]
  },
  {
   "cell_type": "markdown",
   "metadata": {},
   "source": [
    "What will we get as an output for the above lines?"
   ]
  },
  {
   "cell_type": "code",
   "execution_count": 6,
   "metadata": {},
   "outputs": [
    {
     "name": "stdout",
     "output_type": "stream",
     "text": [
      "25\n"
     ]
    }
   ],
   "source": [
    "print(x)"
   ]
  },
  {
   "cell_type": "code",
   "execution_count": 7,
   "metadata": {},
   "outputs": [
    {
     "name": "stdout",
     "output_type": "stream",
     "text": [
      "50\n"
     ]
    }
   ],
   "source": [
    "print(printer())"
   ]
  },
  {
   "cell_type": "markdown",
   "metadata": {},
   "source": [
    "Python has a set of rules it follows to decide what variables you are referencing in your code. The idea of scope in your code can be described by 3 general rules:\n",
    "\n",
    "1. Name assignments will create or change local names by default.\n",
    "2. Name references search (at most) four scopes, these are:\n",
    "    * local - Names assigned in any way within a function and not declared in that function\n",
    "    * enclosing functions - Names in the local scope of any and all enclosed functions from inner to outer\n",
    "    * global - names assigned at the top-level of a module, or declared global in a def within the file\n",
    "    * built-in - Names preassigned in the build-in names module. \n",
    "3. Names declared in global and nonlocal statements map assigned names to enclosing module and function scopes.\n",
    "\n"
   ]
  },
  {
   "cell_type": "code",
   "execution_count": 9,
   "metadata": {},
   "outputs": [],
   "source": [
    "# Local\n",
    "f = lambda x:x**2"
   ]
  },
  {
   "cell_type": "code",
   "execution_count": 11,
   "metadata": {},
   "outputs": [
    {
     "name": "stdout",
     "output_type": "stream",
     "text": [
      "Hello Andrew!\n"
     ]
    }
   ],
   "source": [
    "# Enclosed function locals\n",
    "# This happens when we have functions inside of functions\n",
    "name = \"This is a Global Variable\"\n",
    "\n",
    "def greet():\n",
    "    name = 'Andrew'\n",
    "    \n",
    "    def hello():\n",
    "        print('Hello ' +name +\"!\")\n",
    "    \n",
    "    hello()\n",
    "\n",
    "greet()"
   ]
  },
  {
   "cell_type": "markdown",
   "metadata": {},
   "source": [
    "Notice how Andrew was used, because the hello() function was enclosed inside of the greet function."
   ]
  },
  {
   "cell_type": "code",
   "execution_count": 14,
   "metadata": {},
   "outputs": [
    {
     "name": "stdout",
     "output_type": "stream",
     "text": [
      "This is a Global Variable\n"
     ]
    }
   ],
   "source": [
    "# Global\n",
    "# An easy way to see if a variable is global is by \n",
    "# calling it outside of any function\n",
    "\n",
    "print(name)"
   ]
  },
  {
   "cell_type": "code",
   "execution_count": 16,
   "metadata": {},
   "outputs": [
    {
     "data": {
      "text/plain": [
       "<function len(obj, /)>"
      ]
     },
     "execution_count": 16,
     "metadata": {},
     "output_type": "execute_result"
    }
   ],
   "source": [
    "# Built-in\n",
    "# Don't overwrite!\n",
    "len"
   ]
  },
  {
   "cell_type": "markdown",
   "metadata": {},
   "source": [
    "### Local Varaibles\n",
    "When you declare variables inside a function definition, they are not related in any way to other variables with the same names used outside the function. All variables have the scope of the block they are declared in starting from the point of definition"
   ]
  },
  {
   "cell_type": "code",
   "execution_count": 21,
   "metadata": {},
   "outputs": [
    {
     "name": "stdout",
     "output_type": "stream",
     "text": [
      "x is 50\n",
      "Changed local x to 2\n",
      "x is still 50 after the function is finished\n"
     ]
    }
   ],
   "source": [
    "x = 50\n",
    "\n",
    "def func(x):\n",
    "    print('x is',x)\n",
    "    x = 2\n",
    "    print('Changed local x to',x )\n",
    "func(x)\n",
    "print('x is still', x , 'after the function is finished')"
   ]
  },
  {
   "cell_type": "markdown",
   "metadata": {},
   "source": [
    "### The Global Statement\n",
    "If you want to assign a value to a name defined at the top level of the program, then you have to tell Python that the name is not local, but global. We do this by using the <code>global</code> statement."
   ]
  },
  {
   "cell_type": "code",
   "execution_count": 23,
   "metadata": {},
   "outputs": [
    {
     "name": "stdout",
     "output_type": "stream",
     "text": [
      "Before calling func(), x is  50\n",
      "This function is now using the global x!\n",
      "x is currently 50\n",
      "x was changed to 2\n",
      "Value of x outside of the function is now  2\n"
     ]
    }
   ],
   "source": [
    "x = 50\n",
    "\n",
    "def func():\n",
    "    global x\n",
    "    print('This function is now using the global x!')\n",
    "    print('x is currently',x)\n",
    "    x = 2\n",
    "    print('x was changed to', x)\n",
    "\n",
    "print('Before calling func(), x is ',x)\n",
    "func()\n",
    "print('Value of x outside of the function is now ',x)"
   ]
  },
  {
   "cell_type": "code",
   "execution_count": null,
   "metadata": {},
   "outputs": [],
   "source": []
  }
 ],
 "metadata": {
  "kernelspec": {
   "display_name": "Python 3",
   "language": "python",
   "name": "python3"
  },
  "language_info": {
   "codemirror_mode": {
    "name": "ipython",
    "version": 3
   },
   "file_extension": ".py",
   "mimetype": "text/x-python",
   "name": "python",
   "nbconvert_exporter": "python",
   "pygments_lexer": "ipython3",
   "version": "3.7.4"
  }
 },
 "nbformat": 4,
 "nbformat_minor": 2
}
