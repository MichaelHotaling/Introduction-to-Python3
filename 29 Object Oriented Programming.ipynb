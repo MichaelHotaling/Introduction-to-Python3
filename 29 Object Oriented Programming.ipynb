{
 "cells": [
  {
   "cell_type": "markdown",
   "metadata": {},
   "source": [
    "# Object Oriented Programming\n",
    "\n",
    "Object Oriented Programming (OOP) tends to be one of the major obstacles for beginners when they are first starting with Python\n",
    "\n",
    "We will cover:\n",
    "- Objects\n",
    "- Using the _class_ keyword\n",
    "- Creating class attributes\n",
    "- Creating methods in a class\n",
    "- Learning about Inheritance\n",
    "- Learning about Polymorphism\n",
    "- Learning about Special Methods for classes\n",
    "\n",
    "Let's start by remembering how to call a method on a list"
   ]
  },
  {
   "cell_type": "code",
   "execution_count": 2,
   "metadata": {},
   "outputs": [
    {
     "data": {
      "text/plain": [
       "2"
      ]
     },
     "execution_count": 2,
     "metadata": {},
     "output_type": "execute_result"
    }
   ],
   "source": [
    "list = [1,2,3,4,3]\n",
    "\n",
    "list.count(3) # We use the method \".count()\" to get return the number of times 3 shows up in the list\n"
   ]
  },
  {
   "cell_type": "markdown",
   "metadata": {},
   "source": [
    "## Objects\n",
    "\n",
    "In Python, ___EVERYTHING IS AN OBJECT___. We can use the function type() to check which type of object something is"
   ]
  },
  {
   "cell_type": "code",
   "execution_count": 6,
   "metadata": {
    "scrolled": true
   },
   "outputs": [
    {
     "name": "stdout",
     "output_type": "stream",
     "text": [
      "<class 'int'>\n",
      "<class 'float'>\n",
      "<class 'str'>\n",
      "<class 'bool'>\n",
      "<class 'list'>\n",
      "<class 'tuple'>\n",
      "<class 'dict'>\n"
     ]
    }
   ],
   "source": [
    "print(type(1))\n",
    "print(type(1.1))\n",
    "print(type(\"a\"))\n",
    "print(type(True))\n",
    "print(type([]))\n",
    "print(type(()))\n",
    "print(type({}))"
   ]
  },
  {
   "cell_type": "markdown",
   "metadata": {},
   "source": [
    "So we know that all these things are objects, but how can we create our own object types? That's where class comes in handy.\n",
    "\n",
    "## class\n",
    "\n",
    "User defined objects are created using the <code>class</code> keyword. The class is a blueprint that defines the nature of a future object. From classes, we can construct instances. An instance is a specific object created from a particular class. For example, above we created the object <code>list</code> which was an instance of an object. \n",
    "\n",
    "Let's see what class does"
   ]
  },
  {
   "cell_type": "code",
   "execution_count": 8,
   "metadata": {},
   "outputs": [
    {
     "name": "stdout",
     "output_type": "stream",
     "text": [
      "<class '__main__.Sample'>\n"
     ]
    }
   ],
   "source": [
    "# Create a new object type called Sample\n",
    "\n",
    "class Sample:\n",
    "    pass\n",
    "\n",
    "# Create an instance of Sample\n",
    "x = Sample()\n",
    "\n",
    "print(type(x))"
   ]
  },
  {
   "cell_type": "markdown",
   "metadata": {},
   "source": [
    "By convention, we give class a name that starts with a captial letter. Note how <code>x</code> is now the reference to our new instance of a Sample class. In other words, we **instantiate** the sample class.\n",
    "\n",
    "Inside of the class, we are currently just have pass. But we can define class attributes and methods.\n",
    "\n",
    "An **attribute** is a characteristic of an object. A **method** is an operation we can perform with the object.\n",
    "\n",
    "For example, we can create a class called Dog. An atribute of a dog may be its breed or its name. A method of a dog may be defined as a .bark() method that returns a sound\n",
    "\n",
    "Let's get a better understanding of attributes through an example.\n",
    "\n",
    "## Attributes\n",
    "\n",
    "The syntax for creating an attribute is:\n",
    "       \n",
    "     self.attribute = something\n",
    "\n",
    "there is a special method called:\n",
    "\n",
    "    __init__()\n",
    "\n",
    "This method is used to initalize the attributes of an object. For example:"
   ]
  },
  {
   "cell_type": "code",
   "execution_count": 9,
   "metadata": {},
   "outputs": [],
   "source": [
    "class Dog:\n",
    "    def __init__(self, breed):\n",
    "        self.breed = breed\n",
    "\n",
    "sam = Dog(breed ='Lab')\n",
    "frank = Dog(breed = 'Huskie')"
   ]
  },
  {
   "cell_type": "markdown",
   "metadata": {},
   "source": [
    "Let's go over what this code does\n",
    "First we use the special method\n",
    "\n",
    "        __init__()\n",
    "\n",
    "It is called automatically right after the object has been created:\n",
    "\n",
    "        def__init__(self, breed):\n",
    "\n",
    "Each attribute in a class definition begins with a reference to the instance object. It is by convention named self. The breed is the argument. The value is passed during the class insantiation.\n",
    "\n",
    "        self.breed = breed\n",
    "        \n",
    "Now we have created two instances of the Dog class. With two breed types, we can then access these attributes like this.\n"
   ]
  },
  {
   "cell_type": "code",
   "execution_count": 11,
   "metadata": {},
   "outputs": [
    {
     "data": {
      "text/plain": [
       "'Lab'"
      ]
     },
     "execution_count": 11,
     "metadata": {},
     "output_type": "execute_result"
    }
   ],
   "source": [
    "sam.breed"
   ]
  },
  {
   "cell_type": "code",
   "execution_count": 12,
   "metadata": {},
   "outputs": [
    {
     "data": {
      "text/plain": [
       "'Huskie'"
      ]
     },
     "execution_count": 12,
     "metadata": {},
     "output_type": "execute_result"
    }
   ],
   "source": [
    "frank.breed"
   ]
  },
  {
   "cell_type": "markdown",
   "metadata": {},
   "source": [
    "We don't need parenthesis after breed because this is an attribute and it doesn't need to take in any arguments\n",
    "\n",
    "In Python, there are also *class object attributes*. These Class Object Attributes are the same for any instance of the class. For example, we could create the attribute *species* for the Dog class. Dogs, regardless of their breed, will always be mammals. We can apply this logic in the following manner.\n",
    "\n"
   ]
  },
  {
   "cell_type": "code",
   "execution_count": 25,
   "metadata": {},
   "outputs": [],
   "source": [
    "class Dog:\n",
    "    \n",
    "    #Class Object Attribute\n",
    "    species = 'Mammal'\n",
    "    \n",
    "    def __init__(self, breed, name):\n",
    "        self.breed = breed\n",
    "        self.name = name"
   ]
  },
  {
   "cell_type": "code",
   "execution_count": 28,
   "metadata": {},
   "outputs": [
    {
     "name": "stdout",
     "output_type": "stream",
     "text": [
      "Sam\n",
      "Lab\n",
      "Mammal\n"
     ]
    }
   ],
   "source": [
    "sam = Dog('Lab','Sam')\n",
    "print(sam.name)\n",
    "print(sam.breed)\n",
    "print(sam.species)"
   ]
  },
  {
   "cell_type": "markdown",
   "metadata": {},
   "source": [
    "Note that the Class Object Attribute is defined outside of any methods in the class. Also by convention, we place them first before the init."
   ]
  },
  {
   "cell_type": "code",
   "execution_count": null,
   "metadata": {},
   "outputs": [],
   "source": []
  }
 ],
 "metadata": {
  "kernelspec": {
   "display_name": "Python 3",
   "language": "python",
   "name": "python3"
  },
  "language_info": {
   "codemirror_mode": {
    "name": "ipython",
    "version": 3
   },
   "file_extension": ".py",
   "mimetype": "text/x-python",
   "name": "python",
   "nbconvert_exporter": "python",
   "pygments_lexer": "ipython3",
   "version": "3.7.4"
  }
 },
 "nbformat": 4,
 "nbformat_minor": 2
}
